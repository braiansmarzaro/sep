{
  "nbformat": 4,
  "nbformat_minor": 0,
  "metadata": {
    "colab": {
      "provenance": []
    },
    "kernelspec": {
      "name": "python3",
      "display_name": "Python 3"
    },
    "language_info": {
      "name": "python"
    }
  },
  "cells": [
    {
      "cell_type": "markdown",
      "source": [
        "# Funções"
      ],
      "metadata": {
        "id": "Nb9_lZYMUkzC"
      }
    },
    {
      "cell_type": "code",
      "execution_count": 24,
      "metadata": {
        "id": "TXuV1S0RUhPB"
      },
      "outputs": [],
      "source": [
        "import networkx,numpy as np,cmath\n",
        "np.set_printoptions(precision=5)\n",
        "class Trafo:\n",
        "    def __init__(self,vp,vs,s,xf) -> None:\n",
        "        self.vp = vp\n",
        "        self.vs = vs\n",
        "        self.s = s\n",
        "        self.xf = xf\n",
        "        self.relacao = vp/vs\n",
        "\n",
        "class Gerador:\n",
        "    def __init__(self,s,v,xd):\n",
        "        self.s = s\n",
        "        self.v = v\n",
        "        self.xd = xd\n",
        "\n",
        "\n",
        "def polar(number:complex):\n",
        "    module = abs(number)\n",
        "    angle = np.rad2deg(np.arctan2(number.imag,number.real))\n",
        "\n",
        "    return module,angle\n",
        "\n",
        "def retangular(number:tuple[float,float]):\n",
        "    return cmath.rect(number[0],np.deg2rad(number[1]))\n",
        "\n",
        "def calcula_corrente(potencia_base,tensao_base):\n",
        "    return potencia_base/(3**.5 * tensao_base)\n",
        "\n",
        "def angulo_fp(fp,indutivo = True):\n",
        "    return np.rad2deg(np.arccos(fp)) * (-1 if indutivo else 1)\n",
        "\n",
        "def calcula_z_pu(potencia_base,trafo:Trafo,tensao_base_primario):\n",
        "    return trafo.xf*potencia_base/trafo.s * (trafo.vp/tensao_base_primario)**2*1j\n",
        "\n",
        "def calcula_tensao_base(base_anterior,trafo:Trafo,lado_contrario=False):\n",
        "    return base_anterior/trafo.relacao if not lado_contrario else base_anterior * trafo.relacao\n",
        "\n",
        "def cria_matriz_admitancia(nodes:list[int],edges):\n",
        "    # Create a directed graph\n",
        "    G = networkx.DiGraph()\n",
        "    G.add_nodes_from(nodes)\n",
        "    for u, v, w in edges:\n",
        "        G.add_weighted_edges_from([(u, v, -w), (v, u, -w)])\n",
        "    # Display the adjacency matrix\n",
        "    adj_matrix = networkx.adjacency_matrix(G).todense()\n",
        "    for i in G.nodes():\n",
        "        adj_matrix[i - 1, i - 1] = -sum(G[i][j][\"weight\"] for j in G[i])\n",
        "\n",
        "    return adj_matrix\n",
        "\n",
        "def calcula_z_base(tensao_base_antiga,tensao_base_nova,potencia_base_antiga,potencia_base_nova,reatancia):\n",
        "    '''\n",
        "    Alteração de Z para nova base em p.u\n",
        "    z' = z*nova_base/antiga_base*(vb_antiga/vb_nova)**2\n",
        "    '''\n",
        "    zb = 1j*reatancia*(potencia_base_nova/potencia_base_antiga)*(tensao_base_antiga/tensao_base_nova)**2\n",
        "    return zb\n",
        "\n",
        "def potencia_ativa(tensao_terminal,tensao_gerador,reatancia,angulo_gerador):\n",
        "    return abs(tensao_terminal)*abs(tensao_gerador)/abs(reatancia) * np.sin(np.deg2rad(angulo_gerador))\n",
        "\n",
        "def potencia_reativa(tensao_terminal,tensao_gerador,reatancia,angulo_gerador):\n",
        "    return abs(tensao_terminal)/abs(reatancia) * (abs(tensao_gerador)*np.cos(np.deg2rad(angulo_gerador))-abs(tensao_terminal))\n",
        "\n",
        "def novo_angulo_excitacao(tensao_gerador,angulo_gerador,diferenca):\n",
        "\n",
        "    # e1 sen1 = e2 sen2\n",
        "    sen2 = abs(tensao_gerador)*np.sin(np.deg2rad(angulo_gerador))/((1+diferenca)*abs(tensao_gerador))\n",
        "    gama2 = np.rad2deg(np.arcsin(sen2))\n",
        "    return gama2\n"
      ]
    },
    {
      "cell_type": "markdown",
      "source": [
        "# 1)"
      ],
      "metadata": {
        "id": "UPkepNRRUv6w"
      }
    },
    {
      "cell_type": "code",
      "source": [
        "ta = Trafo(13.8e3,138e3,150e6,7/100)\n",
        "tb = Trafo(138e3,13.8e3,50e6,8/100)\n",
        "tc = Trafo(138e3,13.8e3,50e6,9/100)\n",
        "g1 = Gerador(100e6,13.8e3,20/100)\n",
        "lta = 2.6+8j\n",
        "ltb = 1.85+5j"
      ],
      "metadata": {
        "id": "4w7yshRFUwuB"
      },
      "execution_count": 25,
      "outputs": []
    },
    {
      "cell_type": "code",
      "source": [
        "vb5 = vb4 = 34.5e3\n",
        "sb = 50e6\n",
        "vb3 = vb2 = calcula_tensao_base(vb4,tb,lado_contrario=True)\n",
        "vb3"
      ],
      "metadata": {
        "colab": {
          "base_uri": "https://localhost:8080/"
        },
        "id": "_YGvaukoVu0l",
        "outputId": "8f316345-432b-41cd-b69e-5452d42dba13"
      },
      "execution_count": 26,
      "outputs": [
        {
          "output_type": "execute_result",
          "data": {
            "text/plain": [
              "345000.0"
            ]
          },
          "metadata": {},
          "execution_count": 26
        }
      ]
    },
    {
      "cell_type": "code",
      "source": [
        "vb1 = calcula_tensao_base(vb2,ta,lado_contrario=True)\n",
        "vb1"
      ],
      "metadata": {
        "colab": {
          "base_uri": "https://localhost:8080/"
        },
        "id": "GKGi7ByKW1S-",
        "outputId": "200330b0-cb5c-49d1-8a32-1ccc2a43ae55"
      },
      "execution_count": 27,
      "outputs": [
        {
          "output_type": "execute_result",
          "data": {
            "text/plain": [
              "34500.0"
            ]
          },
          "metadata": {},
          "execution_count": 27
        }
      ]
    },
    {
      "cell_type": "code",
      "source": [
        "zta = calcula_z_pu(sb,ta,vb1)\n",
        "zta"
      ],
      "metadata": {
        "colab": {
          "base_uri": "https://localhost:8080/"
        },
        "id": "P_SqRJlIXetC",
        "outputId": "d8c12f3b-bb48-4061-a709-a8b2b23e22cf"
      },
      "execution_count": 28,
      "outputs": [
        {
          "output_type": "execute_result",
          "data": {
            "text/plain": [
              "0.0037333333333333346j"
            ]
          },
          "metadata": {},
          "execution_count": 28
        }
      ]
    },
    {
      "cell_type": "code",
      "source": [
        "ztb = calcula_z_pu(sb,tb,vb3)\n",
        "ztb"
      ],
      "metadata": {
        "colab": {
          "base_uri": "https://localhost:8080/"
        },
        "id": "YJuWzZy9Xuvh",
        "outputId": "35cabc7c-694d-4bcb-dd47-a696f65a3e86"
      },
      "execution_count": 29,
      "outputs": [
        {
          "output_type": "execute_result",
          "data": {
            "text/plain": [
              "0.012800000000000002j"
            ]
          },
          "metadata": {},
          "execution_count": 29
        }
      ]
    },
    {
      "cell_type": "code",
      "source": [
        "ztc = calcula_z_pu(sb,tc,vb2)\n",
        "ztc"
      ],
      "metadata": {
        "colab": {
          "base_uri": "https://localhost:8080/"
        },
        "id": "jkyvh-NmX1z4",
        "outputId": "54f7019e-84ff-45c8-ad6a-b70fab7283c8"
      },
      "execution_count": 30,
      "outputs": [
        {
          "output_type": "execute_result",
          "data": {
            "text/plain": [
              "0.014400000000000003j"
            ]
          },
          "metadata": {},
          "execution_count": 30
        }
      ]
    },
    {
      "cell_type": "code",
      "source": [
        "#gerador\n",
        "zg = calcula_z_base(g1.v,vb1,g1.s,sb,g1.xd)\n",
        "zg"
      ],
      "metadata": {
        "colab": {
          "base_uri": "https://localhost:8080/"
        },
        "id": "-UKPMzS8Y8nZ",
        "outputId": "45c563fe-c071-4b60-face-8fa44b5bfc8d"
      },
      "execution_count": 31,
      "outputs": [
        {
          "output_type": "execute_result",
          "data": {
            "text/plain": [
              "0.016000000000000004j"
            ]
          },
          "metadata": {},
          "execution_count": 31
        }
      ]
    },
    {
      "cell_type": "code",
      "source": [
        "#admitancias\n",
        "yta = 1/zta\n",
        "ytb = 1/ztb\n",
        "ytc = 1/ztc\n",
        "ylta = 1/lta\n",
        "yltb = 1/ltb\n",
        "yg = 1/zg"
      ],
      "metadata": {
        "id": "KwIXqH2OYlfu"
      },
      "execution_count": 32,
      "outputs": []
    },
    {
      "cell_type": "code",
      "source": [
        "conexoes = [(1,2,yta),(2,3,ylta),(2,5,ytc),(3,4,ytb),(1,1,yg),(4,5,yltb)]\n",
        "\n",
        "matriz_y = cria_matriz_admitancia(range(1,6),conexoes)\n",
        "matriz_y"
      ],
      "metadata": {
        "colab": {
          "base_uri": "https://localhost:8080/"
        },
        "id": "TuzyztqWYEnV",
        "outputId": "a04e4b62-f59e-4f60-8cf4-6a87dd385578"
      },
      "execution_count": 33,
      "outputs": [
        {
          "output_type": "execute_result",
          "data": {
            "text/plain": [
              "array([[-0.     -3.30357e+02j,  0.     +2.67857e+02j,\n",
              "         0.     +0.00000e+00j,  0.     +0.00000e+00j,\n",
              "         0.     +0.00000e+00j],\n",
              "       [ 0.     +2.67857e+02j,  0.03674-3.37415e+02j,\n",
              "        -0.03674+1.13058e-01j,  0.     +0.00000e+00j,\n",
              "         0.     +6.94444e+01j],\n",
              "       [ 0.     +0.00000e+00j, -0.03674+1.13058e-01j,\n",
              "         0.03674-7.82381e+01j,  0.     +7.81250e+01j,\n",
              "         0.     +0.00000e+00j],\n",
              "       [ 0.     +0.00000e+00j,  0.     +0.00000e+00j,\n",
              "         0.     +7.81250e+01j,  0.06509-7.83009e+01j,\n",
              "        -0.06509+1.75917e-01j],\n",
              "       [ 0.     +0.00000e+00j,  0.     +6.94444e+01j,\n",
              "         0.     +0.00000e+00j, -0.06509+1.75917e-01j,\n",
              "         0.06509-6.96204e+01j]])"
            ]
          },
          "metadata": {},
          "execution_count": 33
        }
      ]
    },
    {
      "cell_type": "markdown",
      "source": [
        "# 2)"
      ],
      "metadata": {
        "id": "O5NquVAMaS9G"
      }
    },
    {
      "cell_type": "code",
      "source": [
        "sb = 200e6\n",
        "vb = 345e3\n",
        "\n",
        "n12 = 138/34.5 #Relação entre o primário e secundário\n",
        "\n",
        "# Passando para a base 200MVA e 345kV\n",
        "zps = calcula_z_base(138e3,vb,33e6,sb,9/100)\n",
        "zpt = calcula_z_base(138e3,vb,33e6,sb,7/100)\n",
        "zst = calcula_z_base(34.5e3,vb/n12,20e6,20e6,12/100)\n",
        "zps,zpt,zst"
      ],
      "metadata": {
        "colab": {
          "base_uri": "https://localhost:8080/"
        },
        "id": "20RiD6OGaUJV",
        "outputId": "0a24adba-4212-4db7-a2be-596da2d67e01"
      },
      "execution_count": 34,
      "outputs": [
        {
          "output_type": "execute_result",
          "data": {
            "text/plain": [
              "(0.08727272727272728j, 0.0678787878787879j, 0.019200000000000002j)"
            ]
          },
          "metadata": {},
          "execution_count": 34
        }
      ]
    },
    {
      "cell_type": "code",
      "source": [
        "zp = (zps+zpt-zst)/2\n",
        "zs = (zps+zst-zpt)/2\n",
        "zt = (zpt+zst-zps)/2\n",
        "zp,zs,zt"
      ],
      "metadata": {
        "colab": {
          "base_uri": "https://localhost:8080/"
        },
        "id": "GukVPpbWbb4k",
        "outputId": "7c957cfa-5184-470c-8cb3-db225ac11d88"
      },
      "execution_count": 35,
      "outputs": [
        {
          "output_type": "execute_result",
          "data": {
            "text/plain": [
              "(0.06797575757575759j, 0.019296969696969687j, -9.69696969696926e-05j)"
            ]
          },
          "metadata": {},
          "execution_count": 35
        }
      ]
    },
    {
      "cell_type": "markdown",
      "source": [
        "# 3)"
      ],
      "metadata": {
        "id": "DJ6ikgKPdEPC"
      }
    },
    {
      "cell_type": "code",
      "source": [
        "xf = .05j # propria base. p.u\n",
        "zeq = xf\n",
        "yeq = 1/zeq\n",
        "yeq"
      ],
      "metadata": {
        "colab": {
          "base_uri": "https://localhost:8080/"
        },
        "id": "9gCNFr7_j35T",
        "outputId": "04626ae3-0562-4ce9-941e-cc285b71ea1c"
      },
      "execution_count": 36,
      "outputs": [
        {
          "output_type": "execute_result",
          "data": {
            "text/plain": [
              "-20j"
            ]
          },
          "metadata": {},
          "execution_count": 36
        }
      ]
    },
    {
      "cell_type": "markdown",
      "source": [
        "## a)"
      ],
      "metadata": {
        "id": "SnMuU1dgieXA"
      }
    },
    {
      "cell_type": "code",
      "source": [
        "dv = 0.03\n",
        "c = 1/(1+dv)\n",
        "c"
      ],
      "metadata": {
        "colab": {
          "base_uri": "https://localhost:8080/"
        },
        "id": "yigtFyyRdFWC",
        "outputId": "6227d729-ec89-45f6-9cd1-0f19841e75ab"
      },
      "execution_count": 37,
      "outputs": [
        {
          "output_type": "execute_result",
          "data": {
            "text/plain": [
              "0.970873786407767"
            ]
          },
          "metadata": {},
          "execution_count": 37
        }
      ]
    },
    {
      "cell_type": "code",
      "source": [
        "y11 = yeq\n",
        "y12 = y21 = -c*yeq\n",
        "y22 = abs(c)**2 * yeq\n",
        "\n",
        "matriz_y = [[y11,y12],[y21,y22]]\n",
        "for l in matriz_y:\n",
        "    print(l)"
      ],
      "metadata": {
        "colab": {
          "base_uri": "https://localhost:8080/"
        },
        "id": "MZEQZZUojUj-",
        "outputId": "8addbd88-8337-4302-f2cc-e8e49b59fd68"
      },
      "execution_count": 38,
      "outputs": [
        {
          "output_type": "stream",
          "name": "stdout",
          "text": [
            "[-20j, 19.41747572815534j]\n",
            "[19.41747572815534j, -18.851918182675085j]\n"
          ]
        }
      ]
    },
    {
      "cell_type": "markdown",
      "source": [
        "## b)"
      ],
      "metadata": {
        "id": "0eJ3W9TJi9Fe"
      }
    },
    {
      "cell_type": "code",
      "source": [
        "angulo = 1\n",
        "c2 = retangular((1,1)) # abc' é 1 grau menor. Portanto \"ira aumentar -1 grau\", ou seja alpha = -1 e c = 1|_-alpha = 1|_1\n",
        "c2"
      ],
      "metadata": {
        "colab": {
          "base_uri": "https://localhost:8080/"
        },
        "id": "Yf7pjPaoi-Ju",
        "outputId": "db841f11-c741-4637-af01-4822cbdd80ff"
      },
      "execution_count": 39,
      "outputs": [
        {
          "output_type": "execute_result",
          "data": {
            "text/plain": [
              "(0.9998476951563913+0.01745240643728351j)"
            ]
          },
          "metadata": {},
          "execution_count": 39
        }
      ]
    },
    {
      "cell_type": "code",
      "source": [
        "y11 = yeq\n",
        "y12 = y21 = -c2*yeq\n",
        "y22 = abs(c2)**2 * yeq\n",
        "\n",
        "matriz_y = [[y11,y12],[y21,y22]]\n",
        "for l in matriz_y:\n",
        "    print(l)"
      ],
      "metadata": {
        "colab": {
          "base_uri": "https://localhost:8080/"
        },
        "id": "azm2ESIpkZwQ",
        "outputId": "db5a88ec-077a-4bfa-c70e-24a9ffd4416a"
      },
      "execution_count": 40,
      "outputs": [
        {
          "output_type": "stream",
          "name": "stdout",
          "text": [
            "[-20j, (-0.34904812874567026+19.996953903127825j)]\n",
            "[(-0.34904812874567026+19.996953903127825j), -20j]\n"
          ]
        }
      ]
    },
    {
      "cell_type": "markdown",
      "source": [
        "# 4)"
      ],
      "metadata": {
        "id": "KoZAvhjhdKN5"
      }
    },
    {
      "cell_type": "code",
      "source": [
        "sb = 100e6\n",
        "vb = 13.8e3\n",
        "xd = 1j #pu\n",
        "ig = 3300 #modulo\n",
        "fp = .8 #indutivo"
      ],
      "metadata": {
        "id": "Fx1hjtrKdLGR"
      },
      "execution_count": 41,
      "outputs": []
    },
    {
      "cell_type": "code",
      "source": [
        "i_base = calcula_corrente(sb,vb)\n",
        "i_base"
      ],
      "metadata": {
        "colab": {
          "base_uri": "https://localhost:8080/"
        },
        "id": "gLGlG1zodTph",
        "outputId": "d9d4c72e-2aa9-405a-cbd7-505c4e779625"
      },
      "execution_count": 42,
      "outputs": [
        {
          "output_type": "execute_result",
          "data": {
            "text/plain": [
              "4183.697602823375"
            ]
          },
          "metadata": {},
          "execution_count": 42
        }
      ]
    },
    {
      "cell_type": "code",
      "source": [
        "vt_pu = 1\n",
        "i_pu = retangular((ig/i_base,angulo_fp(fp)))\n",
        "polar(i_pu)"
      ],
      "metadata": {
        "colab": {
          "base_uri": "https://localhost:8080/"
        },
        "id": "FYOXaKwTdVTI",
        "outputId": "4262faa9-d9c0-426f-9755-d5b2a1da476a"
      },
      "execution_count": 43,
      "outputs": [
        {
          "output_type": "execute_result",
          "data": {
            "text/plain": [
              "(0.7887759377668667, -36.86989764584401)"
            ]
          },
          "metadata": {},
          "execution_count": 43
        }
      ]
    },
    {
      "cell_type": "code",
      "source": [
        "ei_pu = xd*i_pu + vt_pu\n",
        "polar(ei_pu)"
      ],
      "metadata": {
        "colab": {
          "base_uri": "https://localhost:8080/"
        },
        "id": "Ot-Yq54FeKc4",
        "outputId": "79b37ae7-27ad-4875-a31b-c7764ac049ef"
      },
      "execution_count": 44,
      "outputs": [
        {
          "output_type": "execute_result",
          "data": {
            "text/plain": [
              "(1.602716008942395, 23.186144413469076)"
            ]
          },
          "metadata": {},
          "execution_count": 44
        }
      ]
    },
    {
      "cell_type": "code",
      "source": [
        "gama = polar(ei_pu)[1]\n",
        "p = potencia_ativa(vt_pu,ei_pu,xd,gama)\n",
        "q = potencia_reativa(vt_pu,ei_pu,xd,gama)\n",
        "print(p)\n",
        "print(q)"
      ],
      "metadata": {
        "colab": {
          "base_uri": "https://localhost:8080/"
        },
        "id": "VLCgeQNFfWbE",
        "outputId": "98700411-3361-4937-815c-191a21f12f48"
      },
      "execution_count": 45,
      "outputs": [
        {
          "output_type": "stream",
          "name": "stdout",
          "text": [
            "0.6310207502134934\n",
            "0.47326556266011965\n"
          ]
        }
      ]
    },
    {
      "cell_type": "code",
      "source": [
        "gama2 = novo_angulo_excitacao(ei_pu,gama,-10/100)\n",
        "q2 = potencia_reativa(vt_pu,ei_pu*.9,xd,gama2)\n",
        "print(gama2)\n",
        "print(q2)"
      ],
      "metadata": {
        "colab": {
          "base_uri": "https://localhost:8080/"
        },
        "id": "L_mFyQNkgfJ3",
        "outputId": "4a492711-58c9-4331-8912-788d6ab6ea26"
      },
      "execution_count": 46,
      "outputs": [
        {
          "output_type": "stream",
          "name": "stdout",
          "text": [
            "25.942329517877997\n",
            "0.29709625051859345\n"
          ]
        }
      ]
    }
  ]
}